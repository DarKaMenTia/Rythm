{
 "cells": [
  {
   "cell_type": "code",
   "execution_count": 1,
   "metadata": {
    "collapsed": true
   },
   "outputs": [],
   "source": [
    "path = \"D:\\\\Rythm\\\\\""
   ]
  },
  {
   "cell_type": "code",
   "execution_count": 16,
   "metadata": {
    "collapsed": true
   },
   "outputs": [],
   "source": [
    "import pandas as pd\n",
    "import numpy as np\n",
    "import matplotlib.pyplot as plt\n",
    "%matplotlib inline\n",
    "from sklearn.decomposition import FastICA, PCA\n",
    "import scipy as sc\n",
    "from scipy.stats import kurtosis\n",
    "from scipy.stats import skew\n",
    "import pywt\n",
    "from scipy import stats\n",
    "from statsmodels.robust import stand_mad"
   ]
  },
  {
   "cell_type": "markdown",
   "metadata": {},
   "source": [
    "# Functions"
   ]
  },
  {
   "cell_type": "code",
   "execution_count": 17,
   "metadata": {
    "collapsed": true
   },
   "outputs": [],
   "source": [
    "# Quality of hypnogram recording : if there is much than p percent of the record that is -1 -> bad recording\n",
    "\n",
    "def hypnogram_quality(hypx , treshold):\n",
    "    return 0 if hypx.count(-1)/len(hypx) > treshold else 1"
   ]
  },
  {
   "cell_type": "code",
   "execution_count": 18,
   "metadata": {
    "collapsed": true
   },
   "outputs": [],
   "source": [
    "def preprocessing_hypno(col):\n",
    "    col = col.replace(\"'\",\"\").replace(\",\",\"\")[1:-1].split(' ')\n",
    "    res = [int(i) for i in col]\n",
    "    return res"
   ]
  },
  {
   "cell_type": "code",
   "execution_count": 19,
   "metadata": {
    "collapsed": true
   },
   "outputs": [],
   "source": [
    "# Count number of breaks of slow wave sleep\n",
    "\n",
    "def count_breaks_3(hypx):\n",
    "    count = 0\n",
    "    for i in range(0,len(hypx)-1):\n",
    "        if hypx[i] !=3 & hypx[i+1] == 3:\n",
    "            count = count + 1\n",
    "    return count\n",
    "            "
   ]
  },
  {
   "cell_type": "code",
   "execution_count": 20,
   "metadata": {
    "collapsed": true
   },
   "outputs": [],
   "source": [
    "def get_hypno(data):\n",
    "    return data[\"HYPNOGRAM\"]"
   ]
  },
  {
   "cell_type": "code",
   "execution_count": 21,
   "metadata": {
    "collapsed": true
   },
   "outputs": [],
   "source": [
    "def get_eeg(data):\n",
    "    return data.ix[:,2:-1]"
   ]
  },
  {
   "cell_type": "code",
   "execution_count": 22,
   "metadata": {
    "collapsed": true
   },
   "outputs": [],
   "source": [
    "def get_eeg_features(EEG, age):\n",
    "    age[\"mean_eeg\"] = EEG.apply(np.mean,axis = 1)\n",
    "    age[\"std_eeg\"] = EEG.apply(np.std , axis = 1)\n",
    "    age[\"kurt_eeg\"] =  EEG.apply(sc.stats.kurtosis , axis =1)\n",
    "    age[\"skew_eeg\"] = EEG.apply(sc.stats.skew , axis =1)\n",
    "    age[\"max_eeg\"] = EEG.apply(np.max , axis = 1)\n",
    "    age[\"min_eeg\"] = EEG.apply(np.min, axis = 1)\n",
    "    return age"
   ]
  },
  {
   "cell_type": "code",
   "execution_count": 36,
   "metadata": {
    "collapsed": true
   },
   "outputs": [],
   "source": [
    "def get_hypno_features(age,hyp):\n",
    "    #age[\"mean_hypno\"] = hyp.apply(np.mean)\n",
    "    #age[\"std_hypno\"] = hyp.apply(np.std)\n",
    "    #age[\"kurt_hypno\"] = hyp.apply(sc.stats.kurtosis)\n",
    "    #age[\"skew_hypno\"] = hyp.apply(sc.stats.skew)\n",
    "\n",
    "    age[\"length_list\"] = hyp.apply(lambda hypx : len(hypx))\n",
    "    #age[\"occurencies_-1\"] = hyp.apply(lambda hypx : hypx.count(-1))\n",
    "    age[\"occurencies_0\"] = hyp.apply(lambda hypx : hypx.count(0))\n",
    "    age[\"occurencies_1\"] = hyp.apply(lambda hypx : hypx.count(1))\n",
    "    age[\"occurencies_2\"] = hyp.apply(lambda hypx : hypx.count(2))\n",
    "    age[\"occurencies_3\"] = hyp.apply(lambda hypx : hypx.count(3))\n",
    "    age[\"occurencies_4\"] = hyp.apply(lambda hypx : hypx.count(4))\n",
    "\n",
    "    # Quality of recording : categorical variable\n",
    "    quality_threshold = 0.1 #10% of well recorded time steps\n",
    "    age[\"record_quality\"] = hyp.apply(lambda hypx : hypnogram_quality(hypx,quality_threshold))\n",
    "\n",
    "    # Percentage of Slow Wave Sleep (3)\n",
    "\n",
    "    age[\"SlowWaveSleep_percentage\"] = age[\"occurencies_3\"] / age[\"length_list\"]\n",
    "\n",
    "    # Number of breaks in Slow Wave Sleep\n",
    "\n",
    "    age[\"breaks\"] = hyp.apply(count_breaks_3)\n",
    "    return age"
   ]
  },
  {
   "cell_type": "code",
   "execution_count": 109,
   "metadata": {
    "collapsed": true
   },
   "outputs": [],
   "source": [
    "def get_device(age,data):\n",
    "    age[\"device\"] = data[\"DEVICE\"]\n",
    "    return age"
   ]
  },
  {
   "cell_type": "code",
   "execution_count": 25,
   "metadata": {
    "collapsed": true
   },
   "outputs": [],
   "source": [
    "def get_fft_length(EEG , age):\n",
    "    length = []\n",
    "    for j in range(0,len(EEG)):\n",
    "        fft = np.fft.fft(EEG.ix[j,:])\n",
    "        freqs = np.fft.fftfreq(len(fft) , d = 1/250) # frequence\n",
    "        y = np.sqrt(np.square(fft.real) + np.square(fft.imag)) # amplitude\n",
    "        z = y[(0 < freqs) & (freqs < 4)]\n",
    "        length.append(len(z))\n",
    "    age[\"fft_length\"] = length\n",
    "    return age\n",
    "        "
   ]
  },
  {
   "cell_type": "code",
   "execution_count": 26,
   "metadata": {
    "collapsed": true
   },
   "outputs": [],
   "source": [
    "def get_fft_mean_ampl(EEG , age):\n",
    "    res = []\n",
    "    for j in range(0,len(EEG)):\n",
    "        fft = np.fft.fft(EEG.ix[j,:])\n",
    "        freqs = np.fft.fftfreq(len(fft) , d = 1/250) # frequence\n",
    "        y = np.sqrt(np.square(fft.real) + np.square(fft.imag)) # amplitude\n",
    "        z = y[(0 < freqs) & (freqs < 4)]\n",
    "        res.append(np.mean(z))\n",
    "    age[\"fft_amp\"] = res\n",
    "    return age"
   ]
  },
  {
   "cell_type": "code",
   "execution_count": 13,
   "metadata": {
    "collapsed": true
   },
   "outputs": [],
   "source": [
    "def get_wavelet(EEG):\n",
    "    coef = EEG.apply(lambda x : pywt.wavedec(x, 'db8', level=8, mode='per'), axis =1)\n",
    "    return coef"
   ]
  },
  {
   "cell_type": "code",
   "execution_count": 33,
   "metadata": {
    "collapsed": true
   },
   "outputs": [],
   "source": [
    "def get_wav_features(coef, age):\n",
    "    max_coef = []\n",
    "    min_coef = []\n",
    "    mean_coef = []\n",
    "    median_coef = []\n",
    "    for j in range(0,len(coef)):\n",
    "        temp_max = [np.max(coef[j][i]) for i in range(0,8)]\n",
    "        max_coef.append(np.max(temp_max))\n",
    "        temp_min = [np.min(coef[j][i]) for i in range(0,8)]\n",
    "        min_coef.append(np.min(temp_min))\n",
    "        temp_mean = [np.mean(coef[j][i]) for i in range(0,8)]\n",
    "        mean_coef.append(np.mean(temp_mean))\n",
    "        temp_median = [np.median(coef[j][i]) for i in range(0,8)]\n",
    "        median_coef.append(np.median(temp_median))\n",
    "    age[\"wav_max\"] = max_coef\n",
    "    age[\"wav_min\"] = min_coef\n",
    "    age[\"wav_mean\"] = mean_coef\n",
    "    age[\"wav_median\"] = median_coef\n",
    "    return age"
   ]
  },
  {
   "cell_type": "code",
   "execution_count": 28,
   "metadata": {
    "collapsed": true
   },
   "outputs": [],
   "source": [
    "def get_first_level(coef , age_wav):\n",
    "  \n",
    "    wav = []\n",
    "    for i in range(0,len(coef[1][0])):\n",
    "        wav.append(\"wav_\"+str(i))\n",
    "\n",
    "    bla = []\n",
    "    for i in range(0,581):\n",
    "        bla.append(coef[i][0])\n",
    "    \n",
    "    res = pd.DataFrame(bla)\n",
    "    res.columns = wav\n",
    "    \n",
    "    return pd.concat([age_wav , res] , axis =1)"
   ]
  },
  {
   "cell_type": "code",
   "execution_count": 91,
   "metadata": {
    "collapsed": false
   },
   "outputs": [],
   "source": [
    "def wav_features(age_wav, coef):\n",
    "    \n",
    "    n = np.shape(age_wav)[0]\n",
    "    for j in range(0,9):\n",
    "\n",
    "        age_wav[\"wav_min\"+str(j)] = pd.Series()\n",
    "        age_wav[\"wav_max\"+str(j)] = pd.Series()\n",
    "        age_wav[\"wav_mean\"+str(j)] = pd.Series()\n",
    "        age_wav[\"wav_std\"+str(j)] = pd.Series()\n",
    "    \n",
    "    for i in range(0,n):\n",
    "        for j in range(0,9):\n",
    "        \n",
    "            age_wav.ix[i,\"wav_min\"+str(j)]= np.min(coef[i][j])\n",
    "            age_wav.ix[i,\"wav_max\"+str(j)] = np.max(coef[i][j])\n",
    "            age_wav.ix[i,\"wav_mean\"+str(j)] = np.mean(coef[i][j])\n",
    "            age_wav.ix[i,\"wav_std\"+str(j)] = np.std(coef[i][j])\n",
    "    return age_wav"
   ]
  },
  {
   "cell_type": "markdown",
   "metadata": {},
   "source": [
    "# Load data"
   ]
  },
  {
   "cell_type": "code",
   "execution_count": 27,
   "metadata": {
    "collapsed": true
   },
   "outputs": [],
   "source": [
    "dat2 = pd.read_csv(path+\"train_input.csv\" , header = 0 , sep =\";\")"
   ]
  },
  {
   "cell_type": "code",
   "execution_count": 74,
   "metadata": {
    "collapsed": true
   },
   "outputs": [],
   "source": [
    "age = pd.read_table(path+\"agetrain.txt\" , header = 0 , sep =\";\")\n",
    "age_wav = pd.DataFrame.copy(age)\n",
    "age_wav_feat = pd.DataFrame.copy(age)"
   ]
  },
  {
   "cell_type": "markdown",
   "metadata": {},
   "source": [
    "# Features from EEG"
   ]
  },
  {
   "cell_type": "code",
   "execution_count": 66,
   "metadata": {
    "collapsed": false
   },
   "outputs": [],
   "source": [
    "EEG = get_eeg(dat2)\n",
    "age = get_device(age,dat2)\n",
    "age = get_eeg_features(EEG,age)"
   ]
  },
  {
   "cell_type": "markdown",
   "metadata": {},
   "source": [
    "# Features from HYPNOGRAM"
   ]
  },
  {
   "cell_type": "code",
   "execution_count": 67,
   "metadata": {
    "collapsed": true
   },
   "outputs": [],
   "source": [
    "hypnogram = get_hypno(dat2)\n",
    "hyp = hypnogram.apply(preprocessing_hypno)"
   ]
  },
  {
   "cell_type": "code",
   "execution_count": 68,
   "metadata": {
    "collapsed": false
   },
   "outputs": [],
   "source": [
    "age = get_hypno_features(age,hyp)\n",
    "age = get_fft_length(EEG, age)\n",
    "age = get_fft_mean_ampl(EEG,age)"
   ]
  },
  {
   "cell_type": "code",
   "execution_count": 69,
   "metadata": {
    "collapsed": false
   },
   "outputs": [
    {
     "data": {
      "text/html": [
       "<div>\n",
       "<table border=\"1\" class=\"dataframe\">\n",
       "  <thead>\n",
       "    <tr style=\"text-align: right;\">\n",
       "      <th></th>\n",
       "      <th>ID</th>\n",
       "      <th>TARGET</th>\n",
       "      <th>device</th>\n",
       "      <th>mean_eeg</th>\n",
       "      <th>std_eeg</th>\n",
       "      <th>kurt_eeg</th>\n",
       "      <th>skew_eeg</th>\n",
       "      <th>max_eeg</th>\n",
       "      <th>min_eeg</th>\n",
       "      <th>length_list</th>\n",
       "      <th>occurencies_0</th>\n",
       "      <th>occurencies_1</th>\n",
       "      <th>occurencies_2</th>\n",
       "      <th>occurencies_3</th>\n",
       "      <th>occurencies_4</th>\n",
       "      <th>record_quality</th>\n",
       "      <th>SlowWaveSleep_percentage</th>\n",
       "      <th>breaks</th>\n",
       "      <th>fft_length</th>\n",
       "      <th>fft_amp</th>\n",
       "    </tr>\n",
       "  </thead>\n",
       "  <tbody>\n",
       "    <tr>\n",
       "      <th>0</th>\n",
       "      <td>0</td>\n",
       "      <td>32</td>\n",
       "      <td>0</td>\n",
       "      <td>1.395848e-03</td>\n",
       "      <td>26.811350</td>\n",
       "      <td>129.538478</td>\n",
       "      <td>-2.978869</td>\n",
       "      <td>370.873413</td>\n",
       "      <td>-584.737732</td>\n",
       "      <td>971</td>\n",
       "      <td>89</td>\n",
       "      <td>7</td>\n",
       "      <td>443</td>\n",
       "      <td>233</td>\n",
       "      <td>177</td>\n",
       "      <td>1</td>\n",
       "      <td>0.239959</td>\n",
       "      <td>94</td>\n",
       "      <td>1199</td>\n",
       "      <td>30110.757853</td>\n",
       "    </tr>\n",
       "    <tr>\n",
       "      <th>1</th>\n",
       "      <td>1</td>\n",
       "      <td>29</td>\n",
       "      <td>0</td>\n",
       "      <td>-6.471835e-04</td>\n",
       "      <td>11.881911</td>\n",
       "      <td>0.421025</td>\n",
       "      <td>-0.042748</td>\n",
       "      <td>58.905529</td>\n",
       "      <td>-66.786278</td>\n",
       "      <td>789</td>\n",
       "      <td>78</td>\n",
       "      <td>19</td>\n",
       "      <td>379</td>\n",
       "      <td>198</td>\n",
       "      <td>115</td>\n",
       "      <td>1</td>\n",
       "      <td>0.250951</td>\n",
       "      <td>50</td>\n",
       "      <td>1199</td>\n",
       "      <td>12311.275042</td>\n",
       "    </tr>\n",
       "    <tr>\n",
       "      <th>2</th>\n",
       "      <td>2</td>\n",
       "      <td>36</td>\n",
       "      <td>0</td>\n",
       "      <td>1.041976e-02</td>\n",
       "      <td>97.740294</td>\n",
       "      <td>215.544923</td>\n",
       "      <td>3.324026</td>\n",
       "      <td>1944.065430</td>\n",
       "      <td>-2119.885986</td>\n",
       "      <td>295</td>\n",
       "      <td>53</td>\n",
       "      <td>0</td>\n",
       "      <td>53</td>\n",
       "      <td>188</td>\n",
       "      <td>0</td>\n",
       "      <td>1</td>\n",
       "      <td>0.637288</td>\n",
       "      <td>31</td>\n",
       "      <td>1199</td>\n",
       "      <td>122016.340524</td>\n",
       "    </tr>\n",
       "    <tr>\n",
       "      <th>3</th>\n",
       "      <td>3</td>\n",
       "      <td>56</td>\n",
       "      <td>0</td>\n",
       "      <td>-7.526106e-03</td>\n",
       "      <td>17.135283</td>\n",
       "      <td>145.579363</td>\n",
       "      <td>4.544951</td>\n",
       "      <td>440.595032</td>\n",
       "      <td>-190.482651</td>\n",
       "      <td>896</td>\n",
       "      <td>65</td>\n",
       "      <td>5</td>\n",
       "      <td>302</td>\n",
       "      <td>189</td>\n",
       "      <td>323</td>\n",
       "      <td>1</td>\n",
       "      <td>0.210938</td>\n",
       "      <td>56</td>\n",
       "      <td>1199</td>\n",
       "      <td>19151.960999</td>\n",
       "    </tr>\n",
       "    <tr>\n",
       "      <th>4</th>\n",
       "      <td>4</td>\n",
       "      <td>60</td>\n",
       "      <td>1</td>\n",
       "      <td>-5.648294e-08</td>\n",
       "      <td>0.000034</td>\n",
       "      <td>1.346067</td>\n",
       "      <td>-0.322313</td>\n",
       "      <td>0.000124</td>\n",
       "      <td>-0.000185</td>\n",
       "      <td>939</td>\n",
       "      <td>463</td>\n",
       "      <td>58</td>\n",
       "      <td>143</td>\n",
       "      <td>239</td>\n",
       "      <td>36</td>\n",
       "      <td>1</td>\n",
       "      <td>0.254526</td>\n",
       "      <td>33</td>\n",
       "      <td>1199</td>\n",
       "      <td>0.038199</td>\n",
       "    </tr>\n",
       "  </tbody>\n",
       "</table>\n",
       "</div>"
      ],
      "text/plain": [
       "   ID  TARGET  device      mean_eeg    std_eeg    kurt_eeg  skew_eeg  \\\n",
       "0   0      32       0  1.395848e-03  26.811350  129.538478 -2.978869   \n",
       "1   1      29       0 -6.471835e-04  11.881911    0.421025 -0.042748   \n",
       "2   2      36       0  1.041976e-02  97.740294  215.544923  3.324026   \n",
       "3   3      56       0 -7.526106e-03  17.135283  145.579363  4.544951   \n",
       "4   4      60       1 -5.648294e-08   0.000034    1.346067 -0.322313   \n",
       "\n",
       "       max_eeg      min_eeg  length_list  occurencies_0  occurencies_1  \\\n",
       "0   370.873413  -584.737732          971             89              7   \n",
       "1    58.905529   -66.786278          789             78             19   \n",
       "2  1944.065430 -2119.885986          295             53              0   \n",
       "3   440.595032  -190.482651          896             65              5   \n",
       "4     0.000124    -0.000185          939            463             58   \n",
       "\n",
       "   occurencies_2  occurencies_3  occurencies_4  record_quality  \\\n",
       "0            443            233            177               1   \n",
       "1            379            198            115               1   \n",
       "2             53            188              0               1   \n",
       "3            302            189            323               1   \n",
       "4            143            239             36               1   \n",
       "\n",
       "   SlowWaveSleep_percentage  breaks  fft_length        fft_amp  \n",
       "0                  0.239959      94        1199   30110.757853  \n",
       "1                  0.250951      50        1199   12311.275042  \n",
       "2                  0.637288      31        1199  122016.340524  \n",
       "3                  0.210938      56        1199   19151.960999  \n",
       "4                  0.254526      33        1199       0.038199  "
      ]
     },
     "execution_count": 69,
     "metadata": {},
     "output_type": "execute_result"
    }
   ],
   "source": [
    "age.head()"
   ]
  },
  {
   "cell_type": "code",
   "execution_count": 54,
   "metadata": {
    "collapsed": true
   },
   "outputs": [],
   "source": [
    "age.to_csv(\"feat.csv\")"
   ]
  },
  {
   "cell_type": "markdown",
   "metadata": {},
   "source": [
    "# Wavelet decomposition"
   ]
  },
  {
   "cell_type": "code",
   "execution_count": 70,
   "metadata": {
    "collapsed": true
   },
   "outputs": [],
   "source": [
    "age_wav = get_device(age_wav , dat2)"
   ]
  },
  {
   "cell_type": "code",
   "execution_count": 71,
   "metadata": {
    "collapsed": false
   },
   "outputs": [],
   "source": [
    "coef = get_wavelet(EEG)"
   ]
  },
  {
   "cell_type": "code",
   "execution_count": 72,
   "metadata": {
    "collapsed": true
   },
   "outputs": [],
   "source": [
    "age_wav = wav_features(age_wav,coef)"
   ]
  },
  {
   "cell_type": "code",
   "execution_count": 73,
   "metadata": {
    "collapsed": false
   },
   "outputs": [
    {
     "data": {
      "text/html": [
       "<div>\n",
       "<table border=\"1\" class=\"dataframe\">\n",
       "  <thead>\n",
       "    <tr style=\"text-align: right;\">\n",
       "      <th></th>\n",
       "      <th>ID</th>\n",
       "      <th>TARGET</th>\n",
       "      <th>device</th>\n",
       "      <th>wav_min0</th>\n",
       "      <th>wav_max0</th>\n",
       "      <th>wav_mean0</th>\n",
       "      <th>wav_std0</th>\n",
       "      <th>wav_min1</th>\n",
       "      <th>wav_max1</th>\n",
       "      <th>wav_mean1</th>\n",
       "      <th>...</th>\n",
       "      <th>wav_mean6</th>\n",
       "      <th>wav_std6</th>\n",
       "      <th>wav_min7</th>\n",
       "      <th>wav_max7</th>\n",
       "      <th>wav_mean7</th>\n",
       "      <th>wav_std7</th>\n",
       "      <th>wav_min8</th>\n",
       "      <th>wav_max8</th>\n",
       "      <th>wav_mean8</th>\n",
       "      <th>wav_std8</th>\n",
       "    </tr>\n",
       "  </thead>\n",
       "  <tbody>\n",
       "    <tr>\n",
       "      <th>0</th>\n",
       "      <td>0</td>\n",
       "      <td>32</td>\n",
       "      <td>0</td>\n",
       "      <td>-1402.798386</td>\n",
       "      <td>739.813544</td>\n",
       "      <td>4.700932e-02</td>\n",
       "      <td>129.593857</td>\n",
       "      <td>-2681.838399</td>\n",
       "      <td>1995.227763</td>\n",
       "      <td>3.070288</td>\n",
       "      <td>...</td>\n",
       "      <td>1.520851e-02</td>\n",
       "      <td>4.628216</td>\n",
       "      <td>-35.175841</td>\n",
       "      <td>33.788319</td>\n",
       "      <td>-4.650481e-05</td>\n",
       "      <td>1.364214</td>\n",
       "      <td>-11.422063</td>\n",
       "      <td>4.929972</td>\n",
       "      <td>-2.596736e-04</td>\n",
       "      <td>0.156237</td>\n",
       "    </tr>\n",
       "    <tr>\n",
       "      <th>1</th>\n",
       "      <td>1</td>\n",
       "      <td>29</td>\n",
       "      <td>0</td>\n",
       "      <td>-239.334369</td>\n",
       "      <td>245.921723</td>\n",
       "      <td>-3.019311e-02</td>\n",
       "      <td>90.242721</td>\n",
       "      <td>-202.026861</td>\n",
       "      <td>239.183099</td>\n",
       "      <td>-3.649749</td>\n",
       "      <td>...</td>\n",
       "      <td>-4.621617e-02</td>\n",
       "      <td>6.917315</td>\n",
       "      <td>-6.526320</td>\n",
       "      <td>7.033817</td>\n",
       "      <td>-5.799839e-05</td>\n",
       "      <td>1.560359</td>\n",
       "      <td>-0.768676</td>\n",
       "      <td>0.833141</td>\n",
       "      <td>1.334174e-05</td>\n",
       "      <td>0.150531</td>\n",
       "    </tr>\n",
       "    <tr>\n",
       "      <th>2</th>\n",
       "      <td>2</td>\n",
       "      <td>36</td>\n",
       "      <td>0</td>\n",
       "      <td>-2674.792171</td>\n",
       "      <td>3918.960693</td>\n",
       "      <td>1.302607e-01</td>\n",
       "      <td>400.859404</td>\n",
       "      <td>-6443.665322</td>\n",
       "      <td>4284.004186</td>\n",
       "      <td>6.807693</td>\n",
       "      <td>...</td>\n",
       "      <td>1.440450e-02</td>\n",
       "      <td>8.770716</td>\n",
       "      <td>-24.799147</td>\n",
       "      <td>19.927536</td>\n",
       "      <td>1.321510e-04</td>\n",
       "      <td>1.605641</td>\n",
       "      <td>-8.060059</td>\n",
       "      <td>4.324459</td>\n",
       "      <td>-1.771710e-04</td>\n",
       "      <td>0.159557</td>\n",
       "    </tr>\n",
       "    <tr>\n",
       "      <th>3</th>\n",
       "      <td>3</td>\n",
       "      <td>56</td>\n",
       "      <td>0</td>\n",
       "      <td>-595.274283</td>\n",
       "      <td>720.434080</td>\n",
       "      <td>-1.184204e-01</td>\n",
       "      <td>90.606810</td>\n",
       "      <td>-780.744970</td>\n",
       "      <td>1499.878949</td>\n",
       "      <td>5.064747</td>\n",
       "      <td>...</td>\n",
       "      <td>7.282955e-04</td>\n",
       "      <td>1.466351</td>\n",
       "      <td>-2.671790</td>\n",
       "      <td>3.093451</td>\n",
       "      <td>-1.654635e-05</td>\n",
       "      <td>0.279525</td>\n",
       "      <td>-5.199568</td>\n",
       "      <td>2.359752</td>\n",
       "      <td>-1.168486e-04</td>\n",
       "      <td>0.041260</td>\n",
       "    </tr>\n",
       "    <tr>\n",
       "      <th>4</th>\n",
       "      <td>4</td>\n",
       "      <td>60</td>\n",
       "      <td>1</td>\n",
       "      <td>-0.000517</td>\n",
       "      <td>0.000626</td>\n",
       "      <td>-8.460627e-07</td>\n",
       "      <td>0.000196</td>\n",
       "      <td>-0.001050</td>\n",
       "      <td>0.001245</td>\n",
       "      <td>-0.000015</td>\n",
       "      <td>...</td>\n",
       "      <td>4.602178e-08</td>\n",
       "      <td>0.000005</td>\n",
       "      <td>-0.000023</td>\n",
       "      <td>0.000023</td>\n",
       "      <td>-5.696861e-10</td>\n",
       "      <td>0.000002</td>\n",
       "      <td>-0.000024</td>\n",
       "      <td>0.000026</td>\n",
       "      <td>6.542273e-09</td>\n",
       "      <td>0.000001</td>\n",
       "    </tr>\n",
       "  </tbody>\n",
       "</table>\n",
       "<p>5 rows × 39 columns</p>\n",
       "</div>"
      ],
      "text/plain": [
       "   ID  TARGET  device     wav_min0     wav_max0     wav_mean0    wav_std0  \\\n",
       "0   0      32       0 -1402.798386   739.813544  4.700932e-02  129.593857   \n",
       "1   1      29       0  -239.334369   245.921723 -3.019311e-02   90.242721   \n",
       "2   2      36       0 -2674.792171  3918.960693  1.302607e-01  400.859404   \n",
       "3   3      56       0  -595.274283   720.434080 -1.184204e-01   90.606810   \n",
       "4   4      60       1    -0.000517     0.000626 -8.460627e-07    0.000196   \n",
       "\n",
       "      wav_min1     wav_max1  wav_mean1    ...        wav_mean6  wav_std6  \\\n",
       "0 -2681.838399  1995.227763   3.070288    ...     1.520851e-02  4.628216   \n",
       "1  -202.026861   239.183099  -3.649749    ...    -4.621617e-02  6.917315   \n",
       "2 -6443.665322  4284.004186   6.807693    ...     1.440450e-02  8.770716   \n",
       "3  -780.744970  1499.878949   5.064747    ...     7.282955e-04  1.466351   \n",
       "4    -0.001050     0.001245  -0.000015    ...     4.602178e-08  0.000005   \n",
       "\n",
       "    wav_min7   wav_max7     wav_mean7  wav_std7   wav_min8  wav_max8  \\\n",
       "0 -35.175841  33.788319 -4.650481e-05  1.364214 -11.422063  4.929972   \n",
       "1  -6.526320   7.033817 -5.799839e-05  1.560359  -0.768676  0.833141   \n",
       "2 -24.799147  19.927536  1.321510e-04  1.605641  -8.060059  4.324459   \n",
       "3  -2.671790   3.093451 -1.654635e-05  0.279525  -5.199568  2.359752   \n",
       "4  -0.000023   0.000023 -5.696861e-10  0.000002  -0.000024  0.000026   \n",
       "\n",
       "      wav_mean8  wav_std8  \n",
       "0 -2.596736e-04  0.156237  \n",
       "1  1.334174e-05  0.150531  \n",
       "2 -1.771710e-04  0.159557  \n",
       "3 -1.168486e-04  0.041260  \n",
       "4  6.542273e-09  0.000001  \n",
       "\n",
       "[5 rows x 39 columns]"
      ]
     },
     "execution_count": 73,
     "metadata": {},
     "output_type": "execute_result"
    }
   ],
   "source": [
    "age_wav.head()"
   ]
  },
  {
   "cell_type": "code",
   "execution_count": 53,
   "metadata": {
    "collapsed": true
   },
   "outputs": [],
   "source": [
    "age_wav.to_csv(\"wav.csv\")"
   ]
  },
  {
   "cell_type": "markdown",
   "metadata": {},
   "source": [
    "# Train a random forest"
   ]
  },
  {
   "cell_type": "code",
   "execution_count": 75,
   "metadata": {
    "collapsed": true
   },
   "outputs": [],
   "source": [
    "EEG = get_eeg(dat2)\n",
    "age = get_device(age,dat2)\n",
    "age = get_eeg_features(EEG,age)\n",
    "\n"
   ]
  },
  {
   "cell_type": "code",
   "execution_count": 76,
   "metadata": {
    "collapsed": true
   },
   "outputs": [],
   "source": [
    "EEG = get_eeg(dat2)\n",
    "age = get_device(age,dat2)\n",
    "age = get_eeg_features(EEG,age)\n",
    "\n",
    "hypnogram = get_hypno(dat2)\n",
    "hyp = hypnogram.apply(preprocessing_hypno)\n",
    "\n",
    "age = get_hypno_features(age,hyp)"
   ]
  },
  {
   "cell_type": "code",
   "execution_count": 77,
   "metadata": {
    "collapsed": false
   },
   "outputs": [
    {
     "data": {
      "text/html": [
       "<div>\n",
       "<table border=\"1\" class=\"dataframe\">\n",
       "  <thead>\n",
       "    <tr style=\"text-align: right;\">\n",
       "      <th></th>\n",
       "      <th>ID</th>\n",
       "      <th>TARGET</th>\n",
       "      <th>device</th>\n",
       "      <th>mean_eeg</th>\n",
       "      <th>std_eeg</th>\n",
       "      <th>kurt_eeg</th>\n",
       "      <th>skew_eeg</th>\n",
       "      <th>max_eeg</th>\n",
       "      <th>min_eeg</th>\n",
       "      <th>length_list</th>\n",
       "      <th>occurencies_0</th>\n",
       "      <th>occurencies_1</th>\n",
       "      <th>occurencies_2</th>\n",
       "      <th>occurencies_3</th>\n",
       "      <th>occurencies_4</th>\n",
       "      <th>record_quality</th>\n",
       "      <th>SlowWaveSleep_percentage</th>\n",
       "      <th>breaks</th>\n",
       "    </tr>\n",
       "  </thead>\n",
       "  <tbody>\n",
       "    <tr>\n",
       "      <th>0</th>\n",
       "      <td>0</td>\n",
       "      <td>32</td>\n",
       "      <td>0</td>\n",
       "      <td>1.395848e-03</td>\n",
       "      <td>26.811350</td>\n",
       "      <td>129.538478</td>\n",
       "      <td>-2.978869</td>\n",
       "      <td>370.873413</td>\n",
       "      <td>-584.737732</td>\n",
       "      <td>971</td>\n",
       "      <td>89</td>\n",
       "      <td>7</td>\n",
       "      <td>443</td>\n",
       "      <td>233</td>\n",
       "      <td>177</td>\n",
       "      <td>1</td>\n",
       "      <td>0.239959</td>\n",
       "      <td>94</td>\n",
       "    </tr>\n",
       "    <tr>\n",
       "      <th>1</th>\n",
       "      <td>1</td>\n",
       "      <td>29</td>\n",
       "      <td>0</td>\n",
       "      <td>-6.471835e-04</td>\n",
       "      <td>11.881911</td>\n",
       "      <td>0.421025</td>\n",
       "      <td>-0.042748</td>\n",
       "      <td>58.905529</td>\n",
       "      <td>-66.786278</td>\n",
       "      <td>789</td>\n",
       "      <td>78</td>\n",
       "      <td>19</td>\n",
       "      <td>379</td>\n",
       "      <td>198</td>\n",
       "      <td>115</td>\n",
       "      <td>1</td>\n",
       "      <td>0.250951</td>\n",
       "      <td>50</td>\n",
       "    </tr>\n",
       "    <tr>\n",
       "      <th>2</th>\n",
       "      <td>2</td>\n",
       "      <td>36</td>\n",
       "      <td>0</td>\n",
       "      <td>1.041976e-02</td>\n",
       "      <td>97.740294</td>\n",
       "      <td>215.544923</td>\n",
       "      <td>3.324026</td>\n",
       "      <td>1944.065430</td>\n",
       "      <td>-2119.885986</td>\n",
       "      <td>295</td>\n",
       "      <td>53</td>\n",
       "      <td>0</td>\n",
       "      <td>53</td>\n",
       "      <td>188</td>\n",
       "      <td>0</td>\n",
       "      <td>1</td>\n",
       "      <td>0.637288</td>\n",
       "      <td>31</td>\n",
       "    </tr>\n",
       "    <tr>\n",
       "      <th>3</th>\n",
       "      <td>3</td>\n",
       "      <td>56</td>\n",
       "      <td>0</td>\n",
       "      <td>-7.526106e-03</td>\n",
       "      <td>17.135283</td>\n",
       "      <td>145.579363</td>\n",
       "      <td>4.544951</td>\n",
       "      <td>440.595032</td>\n",
       "      <td>-190.482651</td>\n",
       "      <td>896</td>\n",
       "      <td>65</td>\n",
       "      <td>5</td>\n",
       "      <td>302</td>\n",
       "      <td>189</td>\n",
       "      <td>323</td>\n",
       "      <td>1</td>\n",
       "      <td>0.210938</td>\n",
       "      <td>56</td>\n",
       "    </tr>\n",
       "    <tr>\n",
       "      <th>4</th>\n",
       "      <td>4</td>\n",
       "      <td>60</td>\n",
       "      <td>1</td>\n",
       "      <td>-5.648294e-08</td>\n",
       "      <td>0.000034</td>\n",
       "      <td>1.346067</td>\n",
       "      <td>-0.322313</td>\n",
       "      <td>0.000124</td>\n",
       "      <td>-0.000185</td>\n",
       "      <td>939</td>\n",
       "      <td>463</td>\n",
       "      <td>58</td>\n",
       "      <td>143</td>\n",
       "      <td>239</td>\n",
       "      <td>36</td>\n",
       "      <td>1</td>\n",
       "      <td>0.254526</td>\n",
       "      <td>33</td>\n",
       "    </tr>\n",
       "  </tbody>\n",
       "</table>\n",
       "</div>"
      ],
      "text/plain": [
       "   ID  TARGET  device      mean_eeg    std_eeg    kurt_eeg  skew_eeg  \\\n",
       "0   0      32       0  1.395848e-03  26.811350  129.538478 -2.978869   \n",
       "1   1      29       0 -6.471835e-04  11.881911    0.421025 -0.042748   \n",
       "2   2      36       0  1.041976e-02  97.740294  215.544923  3.324026   \n",
       "3   3      56       0 -7.526106e-03  17.135283  145.579363  4.544951   \n",
       "4   4      60       1 -5.648294e-08   0.000034    1.346067 -0.322313   \n",
       "\n",
       "       max_eeg      min_eeg  length_list  occurencies_0  occurencies_1  \\\n",
       "0   370.873413  -584.737732          971             89              7   \n",
       "1    58.905529   -66.786278          789             78             19   \n",
       "2  1944.065430 -2119.885986          295             53              0   \n",
       "3   440.595032  -190.482651          896             65              5   \n",
       "4     0.000124    -0.000185          939            463             58   \n",
       "\n",
       "   occurencies_2  occurencies_3  occurencies_4  record_quality  \\\n",
       "0            443            233            177               1   \n",
       "1            379            198            115               1   \n",
       "2             53            188              0               1   \n",
       "3            302            189            323               1   \n",
       "4            143            239             36               1   \n",
       "\n",
       "   SlowWaveSleep_percentage  breaks  \n",
       "0                  0.239959      94  \n",
       "1                  0.250951      50  \n",
       "2                  0.637288      31  \n",
       "3                  0.210938      56  \n",
       "4                  0.254526      33  "
      ]
     },
     "execution_count": 77,
     "metadata": {},
     "output_type": "execute_result"
    }
   ],
   "source": [
    "age.head()"
   ]
  },
  {
   "cell_type": "code",
   "execution_count": 77,
   "metadata": {
    "collapsed": false
   },
   "outputs": [
    {
     "data": {
      "text/html": [
       "<div>\n",
       "<table border=\"1\" class=\"dataframe\">\n",
       "  <thead>\n",
       "    <tr style=\"text-align: right;\">\n",
       "      <th></th>\n",
       "      <th>EEG_0</th>\n",
       "      <th>EEG_1</th>\n",
       "      <th>EEG_2</th>\n",
       "      <th>EEG_3</th>\n",
       "      <th>EEG_4</th>\n",
       "      <th>EEG_5</th>\n",
       "      <th>EEG_6</th>\n",
       "      <th>EEG_7</th>\n",
       "      <th>EEG_8</th>\n",
       "      <th>EEG_9</th>\n",
       "      <th>...</th>\n",
       "      <th>EEG_74990</th>\n",
       "      <th>EEG_74991</th>\n",
       "      <th>EEG_74992</th>\n",
       "      <th>EEG_74993</th>\n",
       "      <th>EEG_74994</th>\n",
       "      <th>EEG_74995</th>\n",
       "      <th>EEG_74996</th>\n",
       "      <th>EEG_74997</th>\n",
       "      <th>EEG_74998</th>\n",
       "      <th>EEG_74999</th>\n",
       "    </tr>\n",
       "  </thead>\n",
       "  <tbody>\n",
       "    <tr>\n",
       "      <th>0</th>\n",
       "      <td>-41.473923</td>\n",
       "      <td>-45.176369</td>\n",
       "      <td>-48.871876</td>\n",
       "      <td>-52.430531</td>\n",
       "      <td>-55.698608</td>\n",
       "      <td>-58.338871</td>\n",
       "      <td>-59.919689</td>\n",
       "      <td>-60.365482</td>\n",
       "      <td>-59.915306</td>\n",
       "      <td>-58.619602</td>\n",
       "      <td>...</td>\n",
       "      <td>-39.994534</td>\n",
       "      <td>-40.737919</td>\n",
       "      <td>-41.243393</td>\n",
       "      <td>-41.563141</td>\n",
       "      <td>-41.477573</td>\n",
       "      <td>-40.687840</td>\n",
       "      <td>-39.171162</td>\n",
       "      <td>-37.272285</td>\n",
       "      <td>-35.384312</td>\n",
       "      <td>-33.797901</td>\n",
       "    </tr>\n",
       "    <tr>\n",
       "      <th>1</th>\n",
       "      <td>1.995628</td>\n",
       "      <td>1.976680</td>\n",
       "      <td>2.144622</td>\n",
       "      <td>2.307100</td>\n",
       "      <td>2.182211</td>\n",
       "      <td>1.700662</td>\n",
       "      <td>0.858995</td>\n",
       "      <td>-0.222909</td>\n",
       "      <td>-1.122924</td>\n",
       "      <td>-1.487486</td>\n",
       "      <td>...</td>\n",
       "      <td>4.151426</td>\n",
       "      <td>3.326329</td>\n",
       "      <td>2.465320</td>\n",
       "      <td>1.581539</td>\n",
       "      <td>0.663152</td>\n",
       "      <td>-0.336660</td>\n",
       "      <td>-1.501697</td>\n",
       "      <td>-2.669854</td>\n",
       "      <td>-3.677377</td>\n",
       "      <td>-4.576015</td>\n",
       "    </tr>\n",
       "    <tr>\n",
       "      <th>2</th>\n",
       "      <td>1.017115</td>\n",
       "      <td>1.657270</td>\n",
       "      <td>2.482397</td>\n",
       "      <td>3.356749</td>\n",
       "      <td>4.225514</td>\n",
       "      <td>5.210766</td>\n",
       "      <td>6.309640</td>\n",
       "      <td>7.299839</td>\n",
       "      <td>8.118546</td>\n",
       "      <td>8.818220</td>\n",
       "      <td>...</td>\n",
       "      <td>6.741571</td>\n",
       "      <td>5.831949</td>\n",
       "      <td>4.320967</td>\n",
       "      <td>2.681330</td>\n",
       "      <td>1.038642</td>\n",
       "      <td>-0.829033</td>\n",
       "      <td>-2.989935</td>\n",
       "      <td>-5.276758</td>\n",
       "      <td>-7.512856</td>\n",
       "      <td>-9.267806</td>\n",
       "    </tr>\n",
       "    <tr>\n",
       "      <th>3</th>\n",
       "      <td>11.683449</td>\n",
       "      <td>13.265381</td>\n",
       "      <td>15.650467</td>\n",
       "      <td>17.328840</td>\n",
       "      <td>16.866253</td>\n",
       "      <td>16.138889</td>\n",
       "      <td>15.232826</td>\n",
       "      <td>14.188766</td>\n",
       "      <td>12.432949</td>\n",
       "      <td>9.145377</td>\n",
       "      <td>...</td>\n",
       "      <td>-4.335334</td>\n",
       "      <td>-8.712267</td>\n",
       "      <td>-12.486134</td>\n",
       "      <td>-15.047755</td>\n",
       "      <td>-15.679938</td>\n",
       "      <td>-14.733905</td>\n",
       "      <td>-13.749776</td>\n",
       "      <td>-12.376304</td>\n",
       "      <td>-11.085991</td>\n",
       "      <td>-8.736834</td>\n",
       "    </tr>\n",
       "    <tr>\n",
       "      <th>4</th>\n",
       "      <td>17.023975</td>\n",
       "      <td>15.871809</td>\n",
       "      <td>14.530089</td>\n",
       "      <td>13.091481</td>\n",
       "      <td>11.459830</td>\n",
       "      <td>9.527679</td>\n",
       "      <td>7.319503</td>\n",
       "      <td>4.868694</td>\n",
       "      <td>2.319060</td>\n",
       "      <td>-0.036310</td>\n",
       "      <td>...</td>\n",
       "      <td>2.221342</td>\n",
       "      <td>1.686171</td>\n",
       "      <td>1.377594</td>\n",
       "      <td>1.298173</td>\n",
       "      <td>1.646075</td>\n",
       "      <td>2.646186</td>\n",
       "      <td>4.198915</td>\n",
       "      <td>5.949712</td>\n",
       "      <td>7.506319</td>\n",
       "      <td>8.671990</td>\n",
       "    </tr>\n",
       "  </tbody>\n",
       "</table>\n",
       "<p>5 rows × 75000 columns</p>\n",
       "</div>"
      ],
      "text/plain": [
       "       EEG_0      EEG_1      EEG_2      EEG_3      EEG_4      EEG_5  \\\n",
       "0 -41.473923 -45.176369 -48.871876 -52.430531 -55.698608 -58.338871   \n",
       "1   1.995628   1.976680   2.144622   2.307100   2.182211   1.700662   \n",
       "2   1.017115   1.657270   2.482397   3.356749   4.225514   5.210766   \n",
       "3  11.683449  13.265381  15.650467  17.328840  16.866253  16.138889   \n",
       "4  17.023975  15.871809  14.530089  13.091481  11.459830   9.527679   \n",
       "\n",
       "       EEG_6      EEG_7      EEG_8      EEG_9    ...      EEG_74990  \\\n",
       "0 -59.919689 -60.365482 -59.915306 -58.619602    ...     -39.994534   \n",
       "1   0.858995  -0.222909  -1.122924  -1.487486    ...       4.151426   \n",
       "2   6.309640   7.299839   8.118546   8.818220    ...       6.741571   \n",
       "3  15.232826  14.188766  12.432949   9.145377    ...      -4.335334   \n",
       "4   7.319503   4.868694   2.319060  -0.036310    ...       2.221342   \n",
       "\n",
       "   EEG_74991  EEG_74992  EEG_74993  EEG_74994  EEG_74995  EEG_74996  \\\n",
       "0 -40.737919 -41.243393 -41.563141 -41.477573 -40.687840 -39.171162   \n",
       "1   3.326329   2.465320   1.581539   0.663152  -0.336660  -1.501697   \n",
       "2   5.831949   4.320967   2.681330   1.038642  -0.829033  -2.989935   \n",
       "3  -8.712267 -12.486134 -15.047755 -15.679938 -14.733905 -13.749776   \n",
       "4   1.686171   1.377594   1.298173   1.646075   2.646186   4.198915   \n",
       "\n",
       "   EEG_74997  EEG_74998  EEG_74999  \n",
       "0 -37.272285 -35.384312 -33.797901  \n",
       "1  -2.669854  -3.677377  -4.576015  \n",
       "2  -5.276758  -7.512856  -9.267806  \n",
       "3 -12.376304 -11.085991  -8.736834  \n",
       "4   5.949712   7.506319   8.671990  \n",
       "\n",
       "[5 rows x 75000 columns]"
      ]
     },
     "execution_count": 77,
     "metadata": {},
     "output_type": "execute_result"
    }
   ],
   "source": [
    "EEG.head()"
   ]
  },
  {
   "cell_type": "code",
   "execution_count": 78,
   "metadata": {
    "collapsed": false
   },
   "outputs": [
    {
     "data": {
      "text/html": [
       "<div>\n",
       "<table border=\"1\" class=\"dataframe\">\n",
       "  <thead>\n",
       "    <tr style=\"text-align: right;\">\n",
       "      <th></th>\n",
       "      <th>ID</th>\n",
       "      <th>TARGET</th>\n",
       "      <th>device</th>\n",
       "      <th>mean_eeg</th>\n",
       "      <th>std_eeg</th>\n",
       "      <th>kurt_eeg</th>\n",
       "      <th>skew_eeg</th>\n",
       "      <th>max_eeg</th>\n",
       "      <th>min_eeg</th>\n",
       "      <th>length_list</th>\n",
       "      <th>...</th>\n",
       "      <th>wav_mean6</th>\n",
       "      <th>wav_std6</th>\n",
       "      <th>wav_min7</th>\n",
       "      <th>wav_max7</th>\n",
       "      <th>wav_mean7</th>\n",
       "      <th>wav_std7</th>\n",
       "      <th>wav_min8</th>\n",
       "      <th>wav_max8</th>\n",
       "      <th>wav_mean8</th>\n",
       "      <th>wav_std8</th>\n",
       "    </tr>\n",
       "  </thead>\n",
       "  <tbody>\n",
       "    <tr>\n",
       "      <th>0</th>\n",
       "      <td>0</td>\n",
       "      <td>32</td>\n",
       "      <td>0</td>\n",
       "      <td>1.395848e-03</td>\n",
       "      <td>26.811350</td>\n",
       "      <td>129.538478</td>\n",
       "      <td>-2.978869</td>\n",
       "      <td>370.873413</td>\n",
       "      <td>-584.737732</td>\n",
       "      <td>971</td>\n",
       "      <td>...</td>\n",
       "      <td>1.520851e-02</td>\n",
       "      <td>4.628216</td>\n",
       "      <td>-35.175841</td>\n",
       "      <td>33.788319</td>\n",
       "      <td>-4.650481e-05</td>\n",
       "      <td>1.364214</td>\n",
       "      <td>-11.422063</td>\n",
       "      <td>4.929972</td>\n",
       "      <td>-2.596736e-04</td>\n",
       "      <td>0.156237</td>\n",
       "    </tr>\n",
       "    <tr>\n",
       "      <th>1</th>\n",
       "      <td>1</td>\n",
       "      <td>29</td>\n",
       "      <td>0</td>\n",
       "      <td>-6.471835e-04</td>\n",
       "      <td>11.881911</td>\n",
       "      <td>0.421025</td>\n",
       "      <td>-0.042748</td>\n",
       "      <td>58.905529</td>\n",
       "      <td>-66.786278</td>\n",
       "      <td>789</td>\n",
       "      <td>...</td>\n",
       "      <td>-4.621617e-02</td>\n",
       "      <td>6.917315</td>\n",
       "      <td>-6.526320</td>\n",
       "      <td>7.033817</td>\n",
       "      <td>-5.799839e-05</td>\n",
       "      <td>1.560359</td>\n",
       "      <td>-0.768676</td>\n",
       "      <td>0.833141</td>\n",
       "      <td>1.334174e-05</td>\n",
       "      <td>0.150531</td>\n",
       "    </tr>\n",
       "    <tr>\n",
       "      <th>2</th>\n",
       "      <td>2</td>\n",
       "      <td>36</td>\n",
       "      <td>0</td>\n",
       "      <td>1.041976e-02</td>\n",
       "      <td>97.740294</td>\n",
       "      <td>215.544923</td>\n",
       "      <td>3.324026</td>\n",
       "      <td>1944.065430</td>\n",
       "      <td>-2119.885986</td>\n",
       "      <td>295</td>\n",
       "      <td>...</td>\n",
       "      <td>1.440450e-02</td>\n",
       "      <td>8.770716</td>\n",
       "      <td>-24.799147</td>\n",
       "      <td>19.927536</td>\n",
       "      <td>1.321510e-04</td>\n",
       "      <td>1.605641</td>\n",
       "      <td>-8.060059</td>\n",
       "      <td>4.324459</td>\n",
       "      <td>-1.771710e-04</td>\n",
       "      <td>0.159557</td>\n",
       "    </tr>\n",
       "    <tr>\n",
       "      <th>3</th>\n",
       "      <td>3</td>\n",
       "      <td>56</td>\n",
       "      <td>0</td>\n",
       "      <td>-7.526106e-03</td>\n",
       "      <td>17.135283</td>\n",
       "      <td>145.579363</td>\n",
       "      <td>4.544951</td>\n",
       "      <td>440.595032</td>\n",
       "      <td>-190.482651</td>\n",
       "      <td>896</td>\n",
       "      <td>...</td>\n",
       "      <td>7.282955e-04</td>\n",
       "      <td>1.466351</td>\n",
       "      <td>-2.671790</td>\n",
       "      <td>3.093451</td>\n",
       "      <td>-1.654635e-05</td>\n",
       "      <td>0.279525</td>\n",
       "      <td>-5.199568</td>\n",
       "      <td>2.359752</td>\n",
       "      <td>-1.168486e-04</td>\n",
       "      <td>0.041260</td>\n",
       "    </tr>\n",
       "    <tr>\n",
       "      <th>4</th>\n",
       "      <td>4</td>\n",
       "      <td>60</td>\n",
       "      <td>1</td>\n",
       "      <td>-5.648294e-08</td>\n",
       "      <td>0.000034</td>\n",
       "      <td>1.346067</td>\n",
       "      <td>-0.322313</td>\n",
       "      <td>0.000124</td>\n",
       "      <td>-0.000185</td>\n",
       "      <td>939</td>\n",
       "      <td>...</td>\n",
       "      <td>4.602178e-08</td>\n",
       "      <td>0.000005</td>\n",
       "      <td>-0.000023</td>\n",
       "      <td>0.000023</td>\n",
       "      <td>-5.696861e-10</td>\n",
       "      <td>0.000002</td>\n",
       "      <td>-0.000024</td>\n",
       "      <td>0.000026</td>\n",
       "      <td>6.542273e-09</td>\n",
       "      <td>0.000001</td>\n",
       "    </tr>\n",
       "  </tbody>\n",
       "</table>\n",
       "<p>5 rows × 55 columns</p>\n",
       "</div>"
      ],
      "text/plain": [
       "   ID  TARGET  device      mean_eeg    std_eeg    kurt_eeg  skew_eeg  \\\n",
       "0   0      32       0  1.395848e-03  26.811350  129.538478 -2.978869   \n",
       "1   1      29       0 -6.471835e-04  11.881911    0.421025 -0.042748   \n",
       "2   2      36       0  1.041976e-02  97.740294  215.544923  3.324026   \n",
       "3   3      56       0 -7.526106e-03  17.135283  145.579363  4.544951   \n",
       "4   4      60       1 -5.648294e-08   0.000034    1.346067 -0.322313   \n",
       "\n",
       "       max_eeg      min_eeg  length_list    ...        wav_mean6  wav_std6  \\\n",
       "0   370.873413  -584.737732          971    ...     1.520851e-02  4.628216   \n",
       "1    58.905529   -66.786278          789    ...    -4.621617e-02  6.917315   \n",
       "2  1944.065430 -2119.885986          295    ...     1.440450e-02  8.770716   \n",
       "3   440.595032  -190.482651          896    ...     7.282955e-04  1.466351   \n",
       "4     0.000124    -0.000185          939    ...     4.602178e-08  0.000005   \n",
       "\n",
       "    wav_min7   wav_max7     wav_mean7  wav_std7   wav_min8  wav_max8  \\\n",
       "0 -35.175841  33.788319 -4.650481e-05  1.364214 -11.422063  4.929972   \n",
       "1  -6.526320   7.033817 -5.799839e-05  1.560359  -0.768676  0.833141   \n",
       "2 -24.799147  19.927536  1.321510e-04  1.605641  -8.060059  4.324459   \n",
       "3  -2.671790   3.093451 -1.654635e-05  0.279525  -5.199568  2.359752   \n",
       "4  -0.000023   0.000023 -5.696861e-10  0.000002  -0.000024  0.000026   \n",
       "\n",
       "      wav_mean8  wav_std8  \n",
       "0 -2.596736e-04  0.156237  \n",
       "1  1.334174e-05  0.150531  \n",
       "2 -1.771710e-04  0.159557  \n",
       "3 -1.168486e-04  0.041260  \n",
       "4  6.542273e-09  0.000001  \n",
       "\n",
       "[5 rows x 55 columns]"
      ]
     },
     "execution_count": 78,
     "metadata": {},
     "output_type": "execute_result"
    }
   ],
   "source": [
    "age = get_fft_mean_ampl(EEG,age)\n",
    "\n",
    "coef = get_wavelet(EEG)\n",
    "age = wav_features(age,coef)\n",
    "\n",
    "age.head()"
   ]
  },
  {
   "cell_type": "code",
   "execution_count": 79,
   "metadata": {
    "collapsed": false
   },
   "outputs": [
    {
     "data": {
      "text/plain": [
       "Index(['ID', 'TARGET', 'device', 'mean_eeg', 'std_eeg', 'kurt_eeg', 'skew_eeg',\n",
       "       'max_eeg', 'min_eeg', 'length_list', 'occurencies_0', 'occurencies_1',\n",
       "       'occurencies_2', 'occurencies_3', 'occurencies_4', 'record_quality',\n",
       "       'SlowWaveSleep_percentage', 'breaks', 'fft_amp', 'wav_min0', 'wav_max0',\n",
       "       'wav_mean0', 'wav_std0', 'wav_min1', 'wav_max1', 'wav_mean1',\n",
       "       'wav_std1', 'wav_min2', 'wav_max2', 'wav_mean2', 'wav_std2', 'wav_min3',\n",
       "       'wav_max3', 'wav_mean3', 'wav_std3', 'wav_min4', 'wav_max4',\n",
       "       'wav_mean4', 'wav_std4', 'wav_min5', 'wav_max5', 'wav_mean5',\n",
       "       'wav_std5', 'wav_min6', 'wav_max6', 'wav_mean6', 'wav_std6', 'wav_min7',\n",
       "       'wav_max7', 'wav_mean7', 'wav_std7', 'wav_min8', 'wav_max8',\n",
       "       'wav_mean8', 'wav_std8'],\n",
       "      dtype='object')"
      ]
     },
     "execution_count": 79,
     "metadata": {},
     "output_type": "execute_result"
    }
   ],
   "source": [
    "age.columns"
   ]
  },
  {
   "cell_type": "code",
   "execution_count": 80,
   "metadata": {
    "collapsed": true
   },
   "outputs": [],
   "source": [
    "age[\"record_quality\"] = pd.Categorical(age[\"record_quality\"] , ordered = False)\n",
    "age[\"device\"] = pd.Categorical(age[\"device\"] , ordered = False)\n",
    "dum = pd.get_dummies(age[[\"record_quality\",\"device\"]])"
   ]
  },
  {
   "cell_type": "code",
   "execution_count": 81,
   "metadata": {
    "collapsed": true
   },
   "outputs": [],
   "source": [
    "quantitative = age.ix[:,2:]"
   ]
  },
  {
   "cell_type": "code",
   "execution_count": 82,
   "metadata": {
    "collapsed": true
   },
   "outputs": [],
   "source": [
    "quantitative = quantitative.drop([\"record_quality\", \"device\"] , axis =1)"
   ]
  },
  {
   "cell_type": "code",
   "execution_count": 83,
   "metadata": {
    "collapsed": true
   },
   "outputs": [],
   "source": [
    "X_train = pd.concat([dum, quantitative], axis=1)"
   ]
  },
  {
   "cell_type": "code",
   "execution_count": 84,
   "metadata": {
    "collapsed": false
   },
   "outputs": [
    {
     "data": {
      "text/plain": [
       "Index(['record_quality_0', 'record_quality_1', 'device_0.0', 'device_1.0',\n",
       "       'mean_eeg', 'std_eeg', 'kurt_eeg', 'skew_eeg', 'max_eeg', 'min_eeg',\n",
       "       'length_list', 'occurencies_0', 'occurencies_1', 'occurencies_2',\n",
       "       'occurencies_3', 'occurencies_4', 'SlowWaveSleep_percentage', 'breaks',\n",
       "       'fft_amp', 'wav_min0', 'wav_max0', 'wav_mean0', 'wav_std0', 'wav_min1',\n",
       "       'wav_max1', 'wav_mean1', 'wav_std1', 'wav_min2', 'wav_max2',\n",
       "       'wav_mean2', 'wav_std2', 'wav_min3', 'wav_max3', 'wav_mean3',\n",
       "       'wav_std3', 'wav_min4', 'wav_max4', 'wav_mean4', 'wav_std4', 'wav_min5',\n",
       "       'wav_max5', 'wav_mean5', 'wav_std5', 'wav_min6', 'wav_max6',\n",
       "       'wav_mean6', 'wav_std6', 'wav_min7', 'wav_max7', 'wav_mean7',\n",
       "       'wav_std7', 'wav_min8', 'wav_max8', 'wav_mean8', 'wav_std8'],\n",
       "      dtype='object')"
      ]
     },
     "execution_count": 84,
     "metadata": {},
     "output_type": "execute_result"
    }
   ],
   "source": [
    "X_train.columns"
   ]
  },
  {
   "cell_type": "code",
   "execution_count": 85,
   "metadata": {
    "collapsed": true
   },
   "outputs": [],
   "source": [
    "Y_train = age[\"TARGET\"]"
   ]
  },
  {
   "cell_type": "markdown",
   "metadata": {},
   "source": [
    "# TEST"
   ]
  },
  {
   "cell_type": "code",
   "execution_count": null,
   "metadata": {
    "collapsed": true
   },
   "outputs": [],
   "source": [
    "dat_test= pd.read_csv(path + \"test_input.csv\" , header = 0 , sep =\";\")"
   ]
  },
  {
   "cell_type": "code",
   "execution_count": 110,
   "metadata": {
    "collapsed": true
   },
   "outputs": [],
   "source": [
    "age_test = pd.DataFrame()"
   ]
  },
  {
   "cell_type": "code",
   "execution_count": 111,
   "metadata": {
    "collapsed": true
   },
   "outputs": [],
   "source": [
    "EEG = get_eeg(dat_test)\n",
    "age_test = get_device(age_test,dat_test)\n",
    "age_test= get_eeg_features(EEG,age_test)\n",
    "\n",
    "hypnogram = get_hypno(dat_test)\n",
    "hyp = hypnogram.apply(preprocessing_hypno)\n",
    "\n",
    "age_test = get_hypno_features(age_test,hyp)\n",
    "age_test = get_fft_mean_ampl(EEG,age_test)\n",
    "\n",
    "coef = get_wavelet(EEG)\n",
    "age_test = wav_features(age_test,coef)"
   ]
  },
  {
   "cell_type": "code",
   "execution_count": 112,
   "metadata": {
    "collapsed": false
   },
   "outputs": [
    {
     "data": {
      "text/plain": [
       "(249, 53)"
      ]
     },
     "execution_count": 112,
     "metadata": {},
     "output_type": "execute_result"
    }
   ],
   "source": [
    "age_test.shape"
   ]
  },
  {
   "cell_type": "code",
   "execution_count": null,
   "metadata": {
    "collapsed": false
   },
   "outputs": [],
   "source": [
    "age_test.head()"
   ]
  },
  {
   "cell_type": "code",
   "execution_count": 137,
   "metadata": {
    "collapsed": false
   },
   "outputs": [
    {
     "data": {
      "text/plain": [
       "Index(['device', 'mean_eeg', 'std_eeg', 'kurt_eeg', 'skew_eeg', 'max_eeg',\n",
       "       'min_eeg', 'length_list', 'occurencies_0', 'occurencies_1',\n",
       "       'occurencies_2', 'occurencies_3', 'occurencies_4', 'record_quality',\n",
       "       'SlowWaveSleep_percentage', 'breaks', 'fft_amp', 'wav_min0', 'wav_max0',\n",
       "       'wav_mean0', 'wav_std0', 'wav_min1', 'wav_max1', 'wav_mean1',\n",
       "       'wav_std1', 'wav_min2', 'wav_max2', 'wav_mean2', 'wav_std2', 'wav_min3',\n",
       "       'wav_max3', 'wav_mean3', 'wav_std3', 'wav_min4', 'wav_max4',\n",
       "       'wav_mean4', 'wav_std4', 'wav_min5', 'wav_max5', 'wav_mean5',\n",
       "       'wav_std5', 'wav_min6', 'wav_max6', 'wav_mean6', 'wav_std6', 'wav_min7',\n",
       "       'wav_max7', 'wav_mean7', 'wav_std7', 'wav_min8', 'wav_max8',\n",
       "       'wav_mean8', 'wav_std8'],\n",
       "      dtype='object')"
      ]
     },
     "execution_count": 137,
     "metadata": {},
     "output_type": "execute_result"
    }
   ],
   "source": [
    "age_test.columns"
   ]
  },
  {
   "cell_type": "code",
   "execution_count": 104,
   "metadata": {
    "collapsed": true
   },
   "outputs": [],
   "source": [
    "age_test.to_csv(\"age_test.csv\")\n"
   ]
  },
  {
   "cell_type": "code",
   "execution_count": 113,
   "metadata": {
    "collapsed": true
   },
   "outputs": [],
   "source": [
    "age_test[\"record_quality\"] = pd.Categorical(age_test[\"record_quality\"] , ordered = False)\n",
    "age_test[\"device\"] = pd.Categorical(age_test[\"device\"] , ordered = False)\n",
    "dum = pd.get_dummies(age_test[[\"record_quality\",\"device\"]])"
   ]
  },
  {
   "cell_type": "code",
   "execution_count": 114,
   "metadata": {
    "collapsed": true
   },
   "outputs": [],
   "source": [
    "quantitative_test = age_test"
   ]
  },
  {
   "cell_type": "code",
   "execution_count": 115,
   "metadata": {
    "collapsed": true
   },
   "outputs": [],
   "source": [
    "quantitative_test = quantitative_test.drop([\"record_quality\", \"device\"] , axis =1)"
   ]
  },
  {
   "cell_type": "code",
   "execution_count": 116,
   "metadata": {
    "collapsed": true
   },
   "outputs": [],
   "source": [
    "X_test= pd.concat([dum, quantitative_test], axis=1)"
   ]
  },
  {
   "cell_type": "code",
   "execution_count": 118,
   "metadata": {
    "collapsed": false
   },
   "outputs": [
    {
     "name": "stdout",
     "output_type": "stream",
     "text": [
      "Meilleur score = 0.730303, nombre de features = 27, nombre d'arbres = 200\n"
     ]
    }
   ],
   "source": [
    "from sklearn.ensemble import RandomForestRegressor\n",
    "from sklearn.model_selection import GridSearchCV\n",
    "\n",
    "param=[{\"max_features\":list(range(6,len(X_train.columns),7)), \"n_estimators\" : list(range(50,350,50))}]\n",
    "rf= GridSearchCV(RandomForestRegressor(),param,cv=5,n_jobs=-1)\n",
    "rfOpt=rf.fit(X_train , Y_train)\n",
    "# paramètres optimaux\n",
    "print(\"Meilleur score = %f, nombre de features = %i, nombre d'arbres = %i\" % (1. - rfOpt.best_score_,rfOpt.best_params_[\"max_features\"], rfOpt.best_params_[\"n_estimators\"]))"
   ]
  },
  {
   "cell_type": "code",
   "execution_count": 119,
   "metadata": {
    "collapsed": false
   },
   "outputs": [
    {
     "name": "stdout",
     "output_type": "stream",
     "text": [
      "MSE= 13.6741394148\n"
     ]
    }
   ],
   "source": [
    "from sklearn.metrics import mean_squared_error\n",
    "rf = RandomForestRegressor(max_features = 27 , n_estimators = 200)\n",
    "rfFit = rf.fit(X_train, Y_train)\n",
    "print(\"MSE=\",mean_squared_error(Y_train,rfFit.predict(X_train)))"
   ]
  },
  {
   "cell_type": "code",
   "execution_count": 120,
   "metadata": {
    "collapsed": true
   },
   "outputs": [],
   "source": [
    "pred = np.round(rfFit.predict(X_test))"
   ]
  },
  {
   "cell_type": "code",
   "execution_count": 121,
   "metadata": {
    "collapsed": false
   },
   "outputs": [
    {
     "data": {
      "text/html": [
       "<div>\n",
       "<table border=\"1\" class=\"dataframe\">\n",
       "  <thead>\n",
       "    <tr style=\"text-align: right;\">\n",
       "      <th></th>\n",
       "      <th>TARGET</th>\n",
       "    </tr>\n",
       "  </thead>\n",
       "  <tbody>\n",
       "    <tr>\n",
       "      <th>0</th>\n",
       "      <td>34</td>\n",
       "    </tr>\n",
       "    <tr>\n",
       "      <th>1</th>\n",
       "      <td>39</td>\n",
       "    </tr>\n",
       "    <tr>\n",
       "      <th>2</th>\n",
       "      <td>42</td>\n",
       "    </tr>\n",
       "    <tr>\n",
       "      <th>3</th>\n",
       "      <td>39</td>\n",
       "    </tr>\n",
       "    <tr>\n",
       "      <th>4</th>\n",
       "      <td>38</td>\n",
       "    </tr>\n",
       "    <tr>\n",
       "      <th>5</th>\n",
       "      <td>38</td>\n",
       "    </tr>\n",
       "    <tr>\n",
       "      <th>6</th>\n",
       "      <td>57</td>\n",
       "    </tr>\n",
       "    <tr>\n",
       "      <th>7</th>\n",
       "      <td>34</td>\n",
       "    </tr>\n",
       "    <tr>\n",
       "      <th>8</th>\n",
       "      <td>41</td>\n",
       "    </tr>\n",
       "    <tr>\n",
       "      <th>9</th>\n",
       "      <td>49</td>\n",
       "    </tr>\n",
       "    <tr>\n",
       "      <th>10</th>\n",
       "      <td>48</td>\n",
       "    </tr>\n",
       "    <tr>\n",
       "      <th>11</th>\n",
       "      <td>30</td>\n",
       "    </tr>\n",
       "    <tr>\n",
       "      <th>12</th>\n",
       "      <td>33</td>\n",
       "    </tr>\n",
       "    <tr>\n",
       "      <th>13</th>\n",
       "      <td>43</td>\n",
       "    </tr>\n",
       "    <tr>\n",
       "      <th>14</th>\n",
       "      <td>40</td>\n",
       "    </tr>\n",
       "    <tr>\n",
       "      <th>15</th>\n",
       "      <td>43</td>\n",
       "    </tr>\n",
       "    <tr>\n",
       "      <th>16</th>\n",
       "      <td>32</td>\n",
       "    </tr>\n",
       "    <tr>\n",
       "      <th>17</th>\n",
       "      <td>44</td>\n",
       "    </tr>\n",
       "    <tr>\n",
       "      <th>18</th>\n",
       "      <td>40</td>\n",
       "    </tr>\n",
       "    <tr>\n",
       "      <th>19</th>\n",
       "      <td>43</td>\n",
       "    </tr>\n",
       "    <tr>\n",
       "      <th>20</th>\n",
       "      <td>38</td>\n",
       "    </tr>\n",
       "    <tr>\n",
       "      <th>21</th>\n",
       "      <td>35</td>\n",
       "    </tr>\n",
       "    <tr>\n",
       "      <th>22</th>\n",
       "      <td>38</td>\n",
       "    </tr>\n",
       "    <tr>\n",
       "      <th>23</th>\n",
       "      <td>42</td>\n",
       "    </tr>\n",
       "    <tr>\n",
       "      <th>24</th>\n",
       "      <td>36</td>\n",
       "    </tr>\n",
       "    <tr>\n",
       "      <th>25</th>\n",
       "      <td>35</td>\n",
       "    </tr>\n",
       "    <tr>\n",
       "      <th>26</th>\n",
       "      <td>38</td>\n",
       "    </tr>\n",
       "    <tr>\n",
       "      <th>27</th>\n",
       "      <td>48</td>\n",
       "    </tr>\n",
       "    <tr>\n",
       "      <th>28</th>\n",
       "      <td>39</td>\n",
       "    </tr>\n",
       "    <tr>\n",
       "      <th>29</th>\n",
       "      <td>37</td>\n",
       "    </tr>\n",
       "    <tr>\n",
       "      <th>...</th>\n",
       "      <td>...</td>\n",
       "    </tr>\n",
       "    <tr>\n",
       "      <th>219</th>\n",
       "      <td>42</td>\n",
       "    </tr>\n",
       "    <tr>\n",
       "      <th>220</th>\n",
       "      <td>43</td>\n",
       "    </tr>\n",
       "    <tr>\n",
       "      <th>221</th>\n",
       "      <td>38</td>\n",
       "    </tr>\n",
       "    <tr>\n",
       "      <th>222</th>\n",
       "      <td>45</td>\n",
       "    </tr>\n",
       "    <tr>\n",
       "      <th>223</th>\n",
       "      <td>44</td>\n",
       "    </tr>\n",
       "    <tr>\n",
       "      <th>224</th>\n",
       "      <td>37</td>\n",
       "    </tr>\n",
       "    <tr>\n",
       "      <th>225</th>\n",
       "      <td>37</td>\n",
       "    </tr>\n",
       "    <tr>\n",
       "      <th>226</th>\n",
       "      <td>43</td>\n",
       "    </tr>\n",
       "    <tr>\n",
       "      <th>227</th>\n",
       "      <td>43</td>\n",
       "    </tr>\n",
       "    <tr>\n",
       "      <th>228</th>\n",
       "      <td>42</td>\n",
       "    </tr>\n",
       "    <tr>\n",
       "      <th>229</th>\n",
       "      <td>41</td>\n",
       "    </tr>\n",
       "    <tr>\n",
       "      <th>230</th>\n",
       "      <td>38</td>\n",
       "    </tr>\n",
       "    <tr>\n",
       "      <th>231</th>\n",
       "      <td>35</td>\n",
       "    </tr>\n",
       "    <tr>\n",
       "      <th>232</th>\n",
       "      <td>39</td>\n",
       "    </tr>\n",
       "    <tr>\n",
       "      <th>233</th>\n",
       "      <td>39</td>\n",
       "    </tr>\n",
       "    <tr>\n",
       "      <th>234</th>\n",
       "      <td>34</td>\n",
       "    </tr>\n",
       "    <tr>\n",
       "      <th>235</th>\n",
       "      <td>31</td>\n",
       "    </tr>\n",
       "    <tr>\n",
       "      <th>236</th>\n",
       "      <td>51</td>\n",
       "    </tr>\n",
       "    <tr>\n",
       "      <th>237</th>\n",
       "      <td>39</td>\n",
       "    </tr>\n",
       "    <tr>\n",
       "      <th>238</th>\n",
       "      <td>38</td>\n",
       "    </tr>\n",
       "    <tr>\n",
       "      <th>239</th>\n",
       "      <td>31</td>\n",
       "    </tr>\n",
       "    <tr>\n",
       "      <th>240</th>\n",
       "      <td>47</td>\n",
       "    </tr>\n",
       "    <tr>\n",
       "      <th>241</th>\n",
       "      <td>34</td>\n",
       "    </tr>\n",
       "    <tr>\n",
       "      <th>242</th>\n",
       "      <td>32</td>\n",
       "    </tr>\n",
       "    <tr>\n",
       "      <th>243</th>\n",
       "      <td>36</td>\n",
       "    </tr>\n",
       "    <tr>\n",
       "      <th>244</th>\n",
       "      <td>40</td>\n",
       "    </tr>\n",
       "    <tr>\n",
       "      <th>245</th>\n",
       "      <td>49</td>\n",
       "    </tr>\n",
       "    <tr>\n",
       "      <th>246</th>\n",
       "      <td>40</td>\n",
       "    </tr>\n",
       "    <tr>\n",
       "      <th>247</th>\n",
       "      <td>40</td>\n",
       "    </tr>\n",
       "    <tr>\n",
       "      <th>248</th>\n",
       "      <td>40</td>\n",
       "    </tr>\n",
       "  </tbody>\n",
       "</table>\n",
       "<p>249 rows × 1 columns</p>\n",
       "</div>"
      ],
      "text/plain": [
       "     TARGET\n",
       "0        34\n",
       "1        39\n",
       "2        42\n",
       "3        39\n",
       "4        38\n",
       "5        38\n",
       "6        57\n",
       "7        34\n",
       "8        41\n",
       "9        49\n",
       "10       48\n",
       "11       30\n",
       "12       33\n",
       "13       43\n",
       "14       40\n",
       "15       43\n",
       "16       32\n",
       "17       44\n",
       "18       40\n",
       "19       43\n",
       "20       38\n",
       "21       35\n",
       "22       38\n",
       "23       42\n",
       "24       36\n",
       "25       35\n",
       "26       38\n",
       "27       48\n",
       "28       39\n",
       "29       37\n",
       "..      ...\n",
       "219      42\n",
       "220      43\n",
       "221      38\n",
       "222      45\n",
       "223      44\n",
       "224      37\n",
       "225      37\n",
       "226      43\n",
       "227      43\n",
       "228      42\n",
       "229      41\n",
       "230      38\n",
       "231      35\n",
       "232      39\n",
       "233      39\n",
       "234      34\n",
       "235      31\n",
       "236      51\n",
       "237      39\n",
       "238      38\n",
       "239      31\n",
       "240      47\n",
       "241      34\n",
       "242      32\n",
       "243      36\n",
       "244      40\n",
       "245      49\n",
       "246      40\n",
       "247      40\n",
       "248      40\n",
       "\n",
       "[249 rows x 1 columns]"
      ]
     },
     "execution_count": 121,
     "metadata": {},
     "output_type": "execute_result"
    }
   ],
   "source": [
    "res = pd.DataFrame()\n",
    "#res[\"ID\"] = [i for i in range(581,830)]\n",
    "res[\"TARGET\"] = pred\n",
    "res"
   ]
  },
  {
   "cell_type": "code",
   "execution_count": 122,
   "metadata": {
    "collapsed": true
   },
   "outputs": [],
   "source": [
    "res.to_csv(\"test_output2.csv\")"
   ]
  },
  {
   "cell_type": "code",
   "execution_count": 149,
   "metadata": {
    "collapsed": false
   },
   "outputs": [
    {
     "data": {
      "text/plain": [
       "array([  2.52983571e-03,   2.48700577e-03,   6.68196536e-06,\n",
       "         2.38995805e-05,   1.36729860e-02,   2.28229890e-02,\n",
       "         1.82548006e-02,   1.37949786e-02,   1.81616858e-02,\n",
       "         1.20215981e-02,   1.91683966e-02,   4.08691984e-02,\n",
       "         1.92257819e-02,   3.56217360e-02,   1.83026196e-02,\n",
       "         2.27481069e-02,   5.95966198e-02,   2.00516985e-02,\n",
       "         2.86430400e-02,   1.31547537e-02,   1.06369681e-02,\n",
       "         1.63845010e-02,   1.13569481e-02,   1.83010700e-02,\n",
       "         1.92273933e-02,   1.24355167e-02,   4.49803801e-02,\n",
       "         1.64082070e-02,   4.74127475e-02,   1.38156938e-02,\n",
       "         4.49427386e-02,   1.62000677e-02,   1.93936316e-02,\n",
       "         1.93698582e-02,   2.13079855e-02,   1.57807562e-02,\n",
       "         1.48597382e-02,   1.71283406e-02,   2.07738891e-02,\n",
       "         9.41243353e-03,   1.27924390e-02,   1.38187733e-02,\n",
       "         2.18206900e-02,   1.30758285e-02,   1.38995417e-02,\n",
       "         1.51835535e-02,   1.96990042e-02,   1.10223023e-02,\n",
       "         1.13786655e-02,   1.16530405e-02,   1.65695619e-02,\n",
       "         1.09738569e-02,   1.27663992e-02,   1.14795235e-02,\n",
       "         1.25795425e-02])"
      ]
     },
     "execution_count": 149,
     "metadata": {},
     "output_type": "execute_result"
    }
   ],
   "source": [
    "rfFit.feature_importances_"
   ]
  },
  {
   "cell_type": "code",
   "execution_count": null,
   "metadata": {
    "collapsed": true
   },
   "outputs": [],
   "source": []
  }
 ],
 "metadata": {
  "kernelspec": {
   "display_name": "Python 3",
   "language": "python",
   "name": "python3"
  },
  "language_info": {
   "codemirror_mode": {
    "name": "ipython",
    "version": 3
   },
   "file_extension": ".py",
   "mimetype": "text/x-python",
   "name": "python",
   "nbconvert_exporter": "python",
   "pygments_lexer": "ipython3",
   "version": "3.5.2"
  }
 },
 "nbformat": 4,
 "nbformat_minor": 0
}
